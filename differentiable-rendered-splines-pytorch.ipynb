{
 "cells": [
  {
   "cell_type": "code",
   "execution_count": 1,
   "id": "06eb348d-54cc-4aa9-b30b-167e0d8484af",
   "metadata": {
    "tags": []
   },
   "outputs": [
    {
     "data": {
      "image/png": "[encoded data removed]",
      "text/plain": [
       "<Figure size 432x288 with 1 Axes>"
      ]
     },
     "metadata": {
      "needs_background": "light"
     },
     "output_type": "display_data"
    },
    {
     "data": {
      "image/png": "[encoded data removed]",
      "text/plain": [
       "<Figure size 432x288 with 1 Axes>"
      ]
     },
     "metadata": {
      "needs_background": "light"
     },
     "output_type": "display_data"
    }
   ],
   "source": [
    "import torch\n",
    "import numpy as np\n",
    "import matplotlib.pyplot as plt\n",
    "\n",
    "def spline_interpolation(x, y, t):\n",
    "    nx = len(x)\n",
    "    \n",
    "    h = torch.tensor(np.diff(x), dtype=torch.float32)\n",
    "    a = torch.tensor(y, dtype=torch.float32)\n",
    "    A = torch.zeros((nx, nx), dtype=torch.float32)\n",
    "    \n",
    "    A[0, 0] = 1.0\n",
    "    for i in range(nx - 1):\n",
    "        if i != (nx - 2):\n",
    "            A[i + 1, i + 1] = 2.0 * (h[i] + h[i + 1])\n",
    "        A[i + 1, i] = h[i]\n",
    "        A[i, i + 1] = h[i]\n",
    "\n",
    "    A[0, 1] = 0.0\n",
    "    A[nx - 1, nx - 2] = 0.0\n",
    "    A[nx - 1, nx - 1] = 1.0\n",
    "    \n",
    "    B = torch.zeros(nx, dtype=torch.float32)\n",
    "    for i in range(nx - 2):\n",
    "        B[i + 1] = 3.0 * (a[i + 2] - a[i + 1]) / h[i + 1] - 3.0 * (a[i + 1] - a[i]) / h[i]\n",
    "        \n",
    "    c, _ = torch.solve(B.unsqueeze(-1), A)\n",
    "    c = c.squeeze()\n",
    "\n",
    "    b, d = [], []\n",
    "    for i in range(nx - 1):\n",
    "        d.append((c[i + 1] - c[i]) / (3.0 * h[i]))\n",
    "        tb = (a[i + 1] - a[i]) / h[i] - h[i] * (c[i + 1] + 2.0 * c[i]) / 3.0\n",
    "        b.append(tb)\n",
    "    \n",
    "    if t < x[0] or t > x[-1]:\n",
    "        return 0.0\n",
    "    \n",
    "\n",
    "    i = torch.searchsorted(torch.tensor(x), t) - 1\n",
    "    \n",
    "    dx = t - x[i]\n",
    "    calc = a[i] + b[i] * dx + c[i] * dx ** 2.0 + d[i] * dx ** 3.0\n",
    "\n",
    "    return calc\n",
    "\n",
    "def get_spline_stroke_brush(x, y, r):\n",
    "    pixel_width = r\n",
    "    \n",
    "    increment = torch.tensor(0.01, dtype=torch.float32)\n",
    "    num_steps = int((x.max() - x.min()) / increment)\n",
    "    result = torch.arange(x.min(), x.max(), increment, dtype=torch.float32)\n",
    "    \n",
    "    rx = result\n",
    "    ry = []\n",
    "    \n",
    "\n",
    "    for i in rx:\n",
    "        b = spline_interpolation(x, y, i)\n",
    "        ry.append(b)\n",
    "    \n",
    "    ry = np.concatenate((np.array([ry[1]]), ry[1::]))\n",
    "    \n",
    "    rx = torch.Tensor(rx)\n",
    "    ry = torch.Tensor(ry)\n",
    "        \n",
    "    coordinates = torch.cat((rx.unsqueeze(1), ry.unsqueeze(1)), dim=1)\n",
    "\n",
    "    canvas_size = (50, 50)\n",
    "    canvas = torch.zeros(canvas_size, dtype=torch.float32).to('cpu')\n",
    "\n",
    "    x_min, _ = torch.min(coordinates[:, 0], dim=0)\n",
    "    x_max, _ = torch.max(coordinates[:, 0], dim=0)\n",
    "    y_min, _ = torch.min(coordinates[:, 1], dim=0)\n",
    "    y_max, _ = torch.max(coordinates[:, 1], dim=0)\n",
    "\n",
    "\n",
    "    # Calculate x_coordinates and y_coordinates\n",
    "    x_coordinates = ((coordinates[:, 0] - x_min) / (x_max - x_min) * (canvas_size[0] - 1)).long()\n",
    "    y_coordinates = ((coordinates[:, 1] - y_min) / (y_max - y_min) * (canvas_size[1] - 1)).long()\n",
    "\n",
    "    # Create a mask to represent the pixels to be set to 1.0\n",
    "    mask = torch.zeros(canvas_size, dtype=torch.float32)\n",
    "    for i in range(-pixel_width // 2, pixel_width // 2 + 1):\n",
    "        for j in range(-pixel_width // 2, pixel_width // 2 + 1):\n",
    "            x_mask = (0 <= x_coordinates + i) & (x_coordinates + i < canvas_size[0])\n",
    "            y_mask = (0 <= y_coordinates + j) & (y_coordinates + j < canvas_size[1])\n",
    "            valid_mask = x_mask & y_mask\n",
    "            mask[y_coordinates[valid_mask] + j, x_coordinates[valid_mask] + i] = 1.0\n",
    "\n",
    "    # Set the pixels in the canvas using the mask\n",
    "    canvas = torch.max(canvas, mask)\n",
    "    \n",
    "    canvas = canvas.flip(0)\n",
    "    \n",
    "    stacked_canvas = torch.stack([canvas, canvas, canvas], dim=-1)\n",
    "    \n",
    "    return stacked_canvas\n",
    "\n",
    "size = 2 #batch_size (1, size)\n",
    "\n",
    "sx1 = torch.tensor([0]*size)\n",
    "sx2 = torch.tensor([2]*size)\n",
    "sx3 = torch.tensor([5]*size)\n",
    "sx4 = torch.tensor([7]*size)\n",
    "sx5 = torch.tensor([8]*size)\n",
    "\n",
    "sy1 = torch.tensor([3]*size)\n",
    "sy2 = torch.tensor([2]*size)\n",
    "sy3 = torch.tensor([0]*size)\n",
    "sy4 = torch.tensor([2]*size)\n",
    "sy5 = torch.tensor([0]*size)\n",
    "\n",
    "brush_radius = [5]*size\n",
    "\n",
    "#you can combine or alter the above vectors as per your need\n",
    "\n",
    "sx = [sx1, sx2, sx3, sx4, sx5]\n",
    "\n",
    "sy = [sy1, sy2, sy3, sy4, sy5]\n",
    "    \n",
    "sx = torch.stack([sx1, sx2, sx3, sx4, sx5], dim=-1)\n",
    "sy = torch.stack([sy1, sy2, sy3, sy4, sy5], dim=-1)\n",
    "\n",
    "W = 1\n",
    "H = 1\n",
    "\n",
    "brush = []\n",
    "\n",
    "#start by vectorizing this loop\n",
    "for x,y,r in zip(sx, sy, brush_radius):\n",
    "    tempbrush = get_spline_stroke_brush(x,y,r)\n",
    "    brush.append(tempbrush)\n",
    "\n",
    "for ii in brush:\n",
    "    plt.imshow(ii)\n",
    "    plt.show()"
   ]
  },
  {
   "cell_type": "code",
   "execution_count": 3,
   "id": "746310cc-a3ee-4d6e-9a3e-09887e0f7923",
   "metadata": {},
   "outputs": [],
   "source": [
    "!conda env export > spline.yml"
   ]
  },
  {
   "cell_type": "code",
   "execution_count": null,
   "id": "fd5b54ed-fa8b-4a30-9c2e-9c6f5450828a",
   "metadata": {},
   "outputs": [],
   "source": []
  }
 ],
 "metadata": {
  "kernelspec": {
   "display_name": "pnt",
   "language": "python",
   "name": "pnt"
  },
  "language_info": {
   "codemirror_mode": {
    "name": "ipython",
    "version": 3
   },
   "file_extension": ".py",
   "mimetype": "text/x-python",
   "name": "python",
   "nbconvert_exporter": "python",
   "pygments_lexer": "ipython3",
   "version": "3.8.12"
  }
 },
 "nbformat": 4,
 "nbformat_minor": 5
}
